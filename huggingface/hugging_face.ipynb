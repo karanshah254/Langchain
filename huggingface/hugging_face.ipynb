{
 "cells": [
  {
   "cell_type": "code",
   "execution_count": 2,
   "metadata": {},
   "outputs": [],
   "source": [
    "from langchain_community.document_loaders import PyPDFLoader, PyPDFDirectoryLoader\n",
    "from langchain.text_splitter import RecursiveCharacterTextSplitter\n",
    "from langchain_community.vectorstores import FAISS\n",
    "from langchain_community.embeddings import HuggingFaceBgeEmbeddings\n",
    "from langchain.prompts import PromptTemplate\n",
    "from langchain.chains import RetrievalQA"
   ]
  },
  {
   "cell_type": "code",
   "execution_count": 3,
   "metadata": {},
   "outputs": [
    {
     "data": {
      "text/plain": [
       "'Health Insurance Coverage Status and Type \\nby Geography: 2021 and 2022\\nAmerican Community Survey Briefs\\nACSBR-015Issued September 2023Douglas Conway and Breauna Branch\\nINTRODUCTION\\nDemographic shifts as well as economic and govern-\\nment policy changes can affect people’s access to health coverage. For example, between 2021 and 2022, the labor market continued to improve, which may have affected private coverage in the United States \\nduring that time.\\n1 Public policy changes included \\nthe renewal of the Public Health Emergency, which \\nallowed Medicaid enrollees to remain covered under the Continuous Enrollment Provision.\\n2 The American \\nRescue Plan (ARP) enhanced Marketplace premium subsidies for those with incomes above 400 percent of the poverty level as well as for unemployed people.\\n3'"
      ]
     },
     "execution_count": 3,
     "metadata": {},
     "output_type": "execute_result"
    }
   ],
   "source": [
    "# read the pdf from loader\n",
    "loader = PyPDFDirectoryLoader(\"./us_cencus\")\n",
    "documents = loader.load()\n",
    "text_splitter = RecursiveCharacterTextSplitter(chunk_size=1000, chunk_overlap=200)\n",
    "final_document = text_splitter.split_documents(documents)\n",
    "final_document[0].page_content"
   ]
  },
  {
   "cell_type": "code",
   "execution_count": 4,
   "metadata": {},
   "outputs": [
    {
     "data": {
      "text/plain": [
       "316"
      ]
     },
     "execution_count": 4,
     "metadata": {},
     "output_type": "execute_result"
    }
   ],
   "source": [
    "len(final_document)"
   ]
  },
  {
   "cell_type": "code",
   "execution_count": 8,
   "metadata": {},
   "outputs": [],
   "source": [
    "# Emebedding using huggingface\n",
    "huggingface_emebeddings = HuggingFaceBgeEmbeddings(\n",
    "    model_name=\"BAAI/bge-small-en-v1.5\",  # sentence-transformers/all-MiniLM-l6-v2\n",
    "    model_kwargs={\"device\": \"cpu\"},\n",
    "    encode_kwargs={\"normalize_embeddings\": True},\n",
    ")"
   ]
  },
  {
   "cell_type": "code",
   "execution_count": 7,
   "metadata": {},
   "outputs": [
    {
     "name": "stdout",
     "output_type": "stream",
     "text": [
      "[-8.46568495e-02 -1.19099207e-02 -3.37892659e-02  2.94559393e-02\n",
      "  5.19159622e-02  5.73839657e-02 -4.10017520e-02  2.74268128e-02\n",
      " -1.05128177e-01 -1.58056151e-02  7.94858783e-02  5.64318821e-02\n",
      " -1.31765129e-02 -3.41544114e-02  5.81603125e-03  4.72548008e-02\n",
      " -1.30746663e-02  3.12994490e-03 -3.44226174e-02  3.08406297e-02\n",
      " -4.09086086e-02  3.52737866e-02 -2.43761614e-02 -4.35831547e-02\n",
      "  2.41503231e-02  1.31986542e-02 -4.84449882e-03  1.92347541e-02\n",
      " -5.43912724e-02 -1.42735019e-01  5.15527185e-03  2.93115675e-02\n",
      " -5.60810901e-02 -8.53537116e-03  3.14141251e-02  2.76736785e-02\n",
      " -2.06188262e-02  8.24231356e-02  4.15425450e-02  5.79655431e-02\n",
      " -3.71587388e-02  6.26158481e-03 -2.41389982e-02 -5.61795617e-03\n",
      " -2.51715314e-02  5.04967617e-03 -2.52801143e-02 -2.91944970e-03\n",
      " -8.24045856e-03 -5.69604635e-02  2.30822880e-02 -5.54217817e-03\n",
      "  5.11555672e-02  6.09937608e-02  6.49766102e-02 -5.38514256e-02\n",
      "  2.19109654e-02 -2.54194438e-02 -4.49223146e-02  4.22459058e-02\n",
      "  4.75252122e-02  7.23216333e-04 -2.61084497e-01  9.30173099e-02\n",
      "  1.13597503e-02  4.90668826e-02 -1.06286844e-02 -8.08729976e-03\n",
      " -1.53562492e-02 -5.33785783e-02 -6.89967126e-02  4.75178324e-02\n",
      " -5.68596199e-02  9.38641187e-03  4.24065888e-02  2.54346859e-02\n",
      "  9.67101101e-03  7.90799595e-03  2.25161072e-02  1.91010081e-03\n",
      "  3.06091569e-02  2.43991930e-02 -1.34115610e-02 -4.77401018e-02\n",
      "  4.89939749e-02 -9.49416235e-02  5.62893897e-02 -4.76260819e-02\n",
      "  2.81447172e-02 -2.54329573e-02 -3.84951644e-02  1.00940019e-02\n",
      "  1.90529026e-04  3.36625464e-02  1.00181811e-02  2.83524282e-02\n",
      " -2.68967403e-03 -6.96361298e-03 -3.54914553e-02  3.42758894e-01\n",
      " -1.94496624e-02  1.43988123e-02 -5.68817323e-03  1.71480868e-02\n",
      " -2.88608763e-03 -5.81652932e-02  6.35146222e-04  5.17299213e-03\n",
      "  2.06331573e-02  1.65708400e-02  2.15096287e-02 -2.38795877e-02\n",
      "  2.89275702e-02  4.67319302e-02 -3.56104635e-02 -1.05078751e-02\n",
      "  3.70704643e-02  1.57502703e-02  9.43095759e-02 -2.50715446e-02\n",
      " -9.55961738e-03  1.78565737e-02 -9.41780116e-03 -4.57858816e-02\n",
      "  1.82930566e-02  5.81431761e-02  4.94311154e-02  1.46350667e-01\n",
      "  2.16057654e-02 -3.92896011e-02  1.03241235e-01 -3.48300040e-02\n",
      " -6.61873212e-03  7.07985833e-03  9.26977897e-04  4.49865917e-03\n",
      " -2.89777629e-02  4.02418822e-02 -5.23190340e-03  4.59962115e-02\n",
      "  4.23969142e-03 -4.83793998e-03 -3.23238084e-03 -1.41072884e-01\n",
      " -3.76811437e-02  1.83623865e-01 -2.96609420e-02  4.90660295e-02\n",
      "  3.90551873e-02 -1.57757699e-02 -3.86351310e-02  4.65630963e-02\n",
      " -2.43485924e-02  3.57695222e-02 -3.54947299e-02  2.36265883e-02\n",
      " -3.41978244e-04  3.11703589e-02 -2.39356477e-02 -5.94757646e-02\n",
      "  6.06259704e-02 -3.81902009e-02 -7.04255402e-02  1.42479492e-02\n",
      "  3.34432200e-02 -3.85255255e-02 -1.71951689e-02 -7.12288544e-02\n",
      "  2.64976043e-02  1.09495930e-02  1.32650193e-02  3.89527902e-02\n",
      "  1.60355065e-02 -3.17630321e-02  1.02013692e-01  2.92912461e-02\n",
      " -2.29205657e-02 -8.38054996e-03 -1.72172822e-02 -6.78820312e-02\n",
      "  5.39413560e-03 -2.32347138e-02 -6.07407354e-02 -3.86575758e-02\n",
      " -1.54306721e-02 -3.84983718e-02 -5.02867475e-02  5.04235588e-02\n",
      "  4.94898073e-02 -1.41083077e-02 -2.98144319e-03  9.76545489e-05\n",
      " -6.59190267e-02  3.01006790e-02 -5.46602125e-04 -1.64788086e-02\n",
      " -5.21614663e-02 -3.30224261e-03  4.75748256e-02 -3.40808406e-02\n",
      " -2.98659746e-02  2.75014900e-02  5.90203982e-03 -2.64041778e-03\n",
      " -1.61242820e-02  2.05222424e-02  1.21104829e-02 -5.49782254e-02\n",
      "  5.10389730e-02 -7.92086869e-03  7.25206872e-03  3.51751074e-02\n",
      "  3.66276689e-02  5.67742041e-04  2.60788575e-02  2.50971112e-02\n",
      "  1.14481021e-02 -2.54925024e-02  1.96417551e-02  2.84220260e-02\n",
      "  2.82554142e-02  6.57489896e-02  9.26553905e-02 -2.68629640e-01\n",
      " -8.90562311e-04  3.16918944e-03  5.08360099e-03 -6.42100945e-02\n",
      " -4.56614681e-02 -4.62259836e-02  3.60924825e-02  8.29055626e-03\n",
      "  8.92349184e-02  5.68021946e-02  6.91057509e-03 -1.08684069e-02\n",
      "  9.36060622e-02  1.03680613e-02 -8.60929564e-02  1.77331939e-02\n",
      " -2.00802721e-02 -1.85124595e-02  5.62444737e-04 -9.38338879e-03\n",
      "  7.76061974e-03 -5.37273362e-02 -2.30028294e-02  7.48890489e-02\n",
      " -1.29692927e-02  6.53717294e-02 -4.24983241e-02 -7.10293651e-02\n",
      " -1.56803317e-02 -6.23028129e-02  5.36034293e-02 -6.53211912e-03\n",
      " -1.15985475e-01  6.70967922e-02  1.93366893e-02 -6.67828023e-02\n",
      " -2.01757182e-03 -6.27636611e-02 -2.95004956e-02 -2.71986425e-02\n",
      "  4.49796729e-02 -6.61587268e-02  2.13751141e-02 -2.94077992e-02\n",
      " -5.71503006e-02  4.05282117e-02  7.11039454e-02 -6.80165216e-02\n",
      "  2.11908687e-02  1.30515425e-02 -2.91152727e-02 -2.25581769e-02\n",
      " -1.60188843e-02  3.20554003e-02 -5.89460246e-02 -2.97131855e-02\n",
      "  3.42681669e-02 -1.58376154e-02 -9.31769516e-03  3.59834097e-02\n",
      "  3.65338149e-03  4.73320000e-02 -1.06235212e-02 -8.69736634e-03\n",
      " -4.38009761e-02  5.94557030e-03 -2.41493843e-02 -7.79940486e-02\n",
      "  1.46542443e-02  1.05613694e-02  5.45365438e-02 -3.17896903e-02\n",
      " -1.26763051e-02  7.92557653e-03 -1.38132889e-02  5.01396842e-02\n",
      " -7.28575978e-03 -5.23703080e-03 -5.32640554e-02  4.78208624e-02\n",
      " -5.38353734e-02  1.11437608e-02  3.96674387e-02 -1.93496719e-02\n",
      "  9.94822290e-03 -3.53477313e-03  3.58562381e-03 -9.61502455e-03\n",
      "  2.15323977e-02 -1.82350650e-02 -2.15188954e-02 -1.38835777e-02\n",
      " -1.76699180e-02  3.37964098e-04 -3.84854357e-04 -2.25800499e-01\n",
      "  4.51242775e-02  1.53377019e-02 -1.76967271e-02 -1.42526366e-02\n",
      " -7.00280722e-03 -3.13724987e-02  2.13674526e-03 -9.28345695e-03\n",
      " -1.66987013e-02  4.66264300e-02  7.71809146e-02  1.26696944e-01\n",
      " -1.83595642e-02 -1.39636789e-02 -1.23304210e-03  5.93339615e-02\n",
      " -1.37459591e-03  1.98233407e-02 -2.92635597e-02  4.96656559e-02\n",
      " -6.07207417e-02  1.53544769e-01 -4.67309393e-02  1.97028872e-02\n",
      " -7.67833292e-02 -7.73229357e-03  3.71618830e-02 -3.00591048e-02\n",
      "  8.30261689e-03  2.06258912e-02  1.97463762e-03  3.39764319e-02\n",
      " -1.70869492e-02  4.84796278e-02  1.20781865e-02  1.24999359e-02\n",
      "  5.61724454e-02  9.88544803e-03  2.13878900e-02 -4.25293706e-02\n",
      " -1.94037128e-02  2.47837976e-02  1.37260891e-02  6.41119257e-02\n",
      " -2.84480769e-02 -4.64116596e-02 -5.36255203e-02 -6.95195267e-05\n",
      "  6.45709857e-02 -4.32048109e-04 -1.32470755e-02  5.85132139e-03\n",
      "  1.48595590e-02 -5.41847311e-02 -2.02038493e-02 -5.98262772e-02\n",
      "  3.67029049e-02  1.43325166e-03 -8.64463672e-03  2.90671680e-02\n",
      "  4.38365899e-02 -7.64942616e-02  1.55718029e-02  6.65831119e-02]\n",
      "(384,)\n"
     ]
    }
   ],
   "source": [
    "import numpy as np\n",
    "\n",
    "print(np.array(huggingface_emebeddings.embed_query(final_document[0].page_content)))\n",
    "print(\n",
    "    np.array(huggingface_emebeddings.embed_query(final_document[0].page_content)).shape\n",
    ")"
   ]
  },
  {
   "cell_type": "code",
   "execution_count": 10,
   "metadata": {},
   "outputs": [],
   "source": [
    "# Vector store creation\n",
    "vector_store = FAISS.from_documents(final_document[:120], huggingface_emebeddings)"
   ]
  },
  {
   "cell_type": "code",
   "execution_count": 11,
   "metadata": {},
   "outputs": [
    {
     "name": "stdout",
     "output_type": "stream",
     "text": [
      "2 U.S. Census Bureau\n",
      "WHAT IS HEALTH INSURANCE COVERAGE?\n",
      "This brief presents state-level estimates of health insurance coverage \n",
      "using data from the American Community Survey (ACS). The  \n",
      "U.S. Census Bureau conducts the ACS throughout the year; the \n",
      "survey asks respondents to report their coverage at the time of \n",
      "interview. The resulting measure of health insurance coverage, \n",
      "therefore, reflects an annual average of current comprehensive \n",
      "health insurance coverage status.* This uninsured rate measures a \n",
      "different concept than the measure based on the Current Population \n",
      "Survey Annual Social and Economic Supplement (CPS ASEC). \n",
      "For reporting purposes, the ACS broadly classifies health insurance \n",
      "coverage as private insurance or public insurance. The ACS defines \n",
      "private health insurance as a plan provided through an employer \n",
      "or a union, coverage purchased directly by an individual from an \n",
      "insurance company or through an exchange (such as healthcare.\n"
     ]
    }
   ],
   "source": [
    "# Query using similarity search\n",
    "query = \"WHAT IS HEALTH INSURANCE COVERAGE?\"\n",
    "relevant_documents = vector_store.similarity_search(query)\n",
    "print(relevant_documents[0].page_content)"
   ]
  },
  {
   "cell_type": "code",
   "execution_count": 12,
   "metadata": {},
   "outputs": [
    {
     "name": "stdout",
     "output_type": "stream",
     "text": [
      "tags=['FAISS', 'HuggingFaceBgeEmbeddings'] vectorstore=<langchain_community.vectorstores.faiss.FAISS object at 0x000001C080045460> search_kwargs={'k': 3}\n"
     ]
    }
   ],
   "source": [
    "retriever = vector_store.as_retriever(search_type=\"similarity\", search_kwargs={\"k\": 3})\n",
    "print(retriever)"
   ]
  },
  {
   "cell_type": "code",
   "execution_count": 24,
   "metadata": {},
   "outputs": [],
   "source": [
    "import os\n",
    "\n",
    "os.environ[\"HUGGINGFACEHUB_API_TOKEN\"] = os.getenv(\"HUGGINGFACEHUB_API_TOKEN\")"
   ]
  },
  {
   "cell_type": "code",
   "execution_count": 25,
   "metadata": {},
   "outputs": [
    {
     "data": {
      "text/plain": [
       "'What is health insurance coverage?\\n\\nHealth insurance coverage is a type of insurance that covers the cost of medical and surgical expenses incurred by the insured. It is a contract between the insured and the insurance company, where the insured agrees to pay a premium in exchange for the insurance company’s promise to pay for certain medical expenses.\\n\\nHealth insurance coverage can be obtained through an employer, a government program, or a private insurance company. The type of coverage and the amount of coverage will vary depending'"
      ]
     },
     "execution_count": 25,
     "metadata": {},
     "output_type": "execute_result"
    }
   ],
   "source": [
    "from langchain_community.llms import HuggingFaceHub\n",
    "\n",
    "hf = HuggingFaceHub(\n",
    "    repo_id=\"mistralai/Mistral-7B-v0.1\",\n",
    "    model_kwargs={\"temperature\": 0.1, \"max_length\": 500},\n",
    ")\n",
    "query = \"What is health insurance coverage?\"\n",
    "hf.invoke(query)"
   ]
  },
  {
   "cell_type": "code",
   "execution_count": null,
   "metadata": {},
   "outputs": [],
   "source": [
    "# huggingface models can be run locally through HuggingFacePipeline class\n",
    "from langchain_community.llms.huggingface_pipeline import HuggingFacePipeline\n",
    "hf = HuggingFacePipeline.from_model_id(\n",
    "    model_id=\"mistralai/Mistral-7B-v0.1\",\n",
    "    task=\"text-generation\",\n",
    "    pipeline_kwargs={\"temperature\": 0, \"max_new_tokens\": 50},\n",
    ")\n",
    "llm = hf\n",
    "llm.invoke(query)"
   ]
  },
  {
   "cell_type": "code",
   "execution_count": 28,
   "metadata": {},
   "outputs": [],
   "source": [
    "prompt_template = \"\"\"\n",
    "Use the following piece of context to answer the question asked.\n",
    "Please try to provide the answer only based on the context\n",
    "\n",
    "{context}\n",
    "Question:{question}\n",
    "\n",
    "Helpful Answers:\n",
    " \"\"\""
   ]
  },
  {
   "cell_type": "code",
   "execution_count": 29,
   "metadata": {},
   "outputs": [],
   "source": [
    "prompt = PromptTemplate(\n",
    "    template=prompt_template, input_variables=[\"context\", \"question\"]\n",
    ")"
   ]
  },
  {
   "cell_type": "code",
   "execution_count": 30,
   "metadata": {},
   "outputs": [],
   "source": [
    "retreivalQA = RetrievalQA.from_chain_type(\n",
    "    llm=hf,\n",
    "    chain_type=\"stuff\",\n",
    "    retriever=retriever,\n",
    "    return_source_documents=True,\n",
    "    chain_type_kwargs={\"prompt\": prompt},\n",
    ")"
   ]
  },
  {
   "cell_type": "code",
   "execution_count": 31,
   "metadata": {},
   "outputs": [],
   "source": [
    "query = \"\"\"DIFFERENCES IN THE\n",
    "UNINSURED RATE BY STATE\n",
    "IN 2022\"\"\""
   ]
  },
  {
   "cell_type": "code",
   "execution_count": 33,
   "metadata": {},
   "outputs": [
    {
     "name": "stdout",
     "output_type": "stream",
     "text": [
      "\n",
      "Use the following piece of context to answer the question asked.\n",
      "Please try to provide the answer only based on the context\n",
      "\n",
      "comparison of ACS and CPS ASEC measures \n",
      "of health insurance coverage, refer to < www.\n",
      "census.gov/topics/health/health-insurance/\n",
      "guidance.html >.\n",
      "9 Respondents may have more than one \n",
      "health insurance coverage type at the time \n",
      "of interview. As a result, adding the total \n",
      "number of people with private coverage and \n",
      "the total number with public coverage will \n",
      "sum to more than the total number with any \n",
      "coverage.• From 2021 to 2022, nine states \n",
      "reported increases in private \n",
      "coverage, while seven reported \n",
      "decreases (Appendix Table B-2). \n",
      "DIFFERENCES IN THE \n",
      "UNINSURED RATE BY STATE \n",
      "IN 2022\n",
      "In 2022, uninsured rates at the \n",
      "time of interview ranged across \n",
      "states from a low of 2.4 percent \n",
      "in Massachusetts to a high of 16.6 \n",
      "percent in Texas, compared to the \n",
      "national rate of 8.0 percent.10 Ten \n",
      "of the 15 states with uninsured \n",
      "10 The uninsured rates in the District \n",
      "of Columbia and Massachusetts were not \n",
      "statistically different.rates above the national aver -\n",
      "\n",
      "percent (Appendix Table B-5). \n",
      "Medicaid coverage accounted \n",
      "for a portion of that difference. \n",
      "Medicaid coverage was 22.7 per -\n",
      "cent in the group of states that \n",
      "expanded Medicaid eligibility and \n",
      "18.0 percent in the group of nonex -\n",
      "pansion states.\n",
      "CHANGES IN THE UNINSURED \n",
      "RATE BY STATE FROM 2021 \n",
      "TO 2022\n",
      "From 2021 to 2022, uninsured rates \n",
      "decreased across 27 states, while \n",
      "only Maine had an increase. The \n",
      "uninsured rate in Maine increased \n",
      "from 5.7 percent to 6.6 percent, \n",
      "although it remained below the \n",
      "national average. Maine’s uninsured \n",
      "rate was still below 8.0 percent, \n",
      "21 Douglas Conway and Breauna Branch, \n",
      "“Health Insurance Coverage Status and Type \n",
      "by Geography: 2019 and 2021,” 2022, < www.\n",
      "census.gov/content/dam/Census/library/\n",
      "publications/2022/acs/acsbr-013.pdf >.\n",
      "\n",
      "library/publications/2022/acs/acsbr-013.pdf >.\n",
      "39 In 2022, the private coverage rates were \n",
      "not statistically different in North Dakota and \n",
      "Utah.Figure /five.tab/period.tab\n",
      "Percentage of Uninsured People for the /two.tab/five.tab Most Populous Metropolitan \n",
      "Areas/colon.tab /two.tab/zero.tab/two.tab/one.tab and /two.tab/zero.tab/two.tab/two.tab\n",
      "(Civilian, noninstitutionalized population) /uni00A0\n",
      "* Denotes a statistically signiﬁcant change between 2021 and 2022 at the 90 percent conﬁdence level.\n",
      "Note: For information on conﬁdentiality protection, sampling error, nonsampling error, and deﬁnitions in the American Community\n",
      "Survey, refer to <https://www2.census.gov/programs-surveys/acs/tech_docs/accuracy/ACS_Accuracy_of_Data_2022.pdf>.\n",
      "Source: U.S. Census Bureau, 2021 and 2022 American Community Survey, 1-year estimates. Boston-Cambridge-Newton/comma.tab MA-NH\n",
      "San Francisco-Oakland-Berkeley/comma.tab CA\n",
      "*Detroit-Warren-Dearborn/comma.tab MI\n",
      "Question:DIFFERENCES IN THE\n",
      "UNINSURED RATE BY STATE\n",
      "IN 2022\n",
      "\n",
      "Helpful Answers:\n",
      " \n",
      "\n",
      "\n",
      "\n",
      "\n",
      "\n",
      "\n",
      "\n",
      "\n",
      "\n",
      "\n",
      "\n",
      "\n",
      "\n",
      "\n",
      "\n",
      "\n",
      "\n",
      "\n",
      "\n",
      "\n",
      "\n",
      "\n",
      "\n",
      "\n",
      "\n",
      "\n",
      "\n",
      "\n",
      "\n",
      "\n",
      "\n",
      "\n",
      "\n",
      "\n",
      "\n",
      "\n",
      "\n",
      "\n",
      "\n",
      "\n",
      "\n",
      "\n",
      "\n",
      "\n",
      "\n",
      "\n",
      "\n",
      "\n",
      "\n",
      "\n",
      "\n",
      "\n",
      "\n",
      "\n",
      "\n",
      "\n",
      "\n",
      "\n",
      "\n",
      "\n",
      "\n",
      "\n",
      "\n",
      "\n",
      "\n",
      "\n",
      "\n",
      "\n",
      "\n",
      "\n",
      "\n",
      "\n",
      "\n",
      "\n",
      "\n",
      "\n",
      "\n",
      "\n",
      "\n",
      "\n",
      "\n",
      "\n",
      "\n",
      "\n",
      "\n",
      "\n",
      "\n",
      "\n",
      "\n",
      "\n",
      "\n",
      "\n",
      "\n",
      "\n",
      "\n",
      "\n",
      "\n",
      "\n",
      "\n",
      "\n"
     ]
    }
   ],
   "source": [
    "# call QA chain with query\n",
    "answers = retreivalQA.invoke({\"query\": query})\n",
    "print(answers['result'])"
   ]
  }
 ],
 "metadata": {
  "kernelspec": {
   "display_name": "venv",
   "language": "python",
   "name": "python3"
  },
  "language_info": {
   "codemirror_mode": {
    "name": "ipython",
    "version": 3
   },
   "file_extension": ".py",
   "mimetype": "text/x-python",
   "name": "python",
   "nbconvert_exporter": "python",
   "pygments_lexer": "ipython3",
   "version": "3.12.2"
  }
 },
 "nbformat": 4,
 "nbformat_minor": 2
}
